{
 "cells": [
  {
   "cell_type": "markdown",
   "id": "92c3d9e3",
   "metadata": {},
   "source": [
    "# Predicting ride duration experiment\n",
    "**source**: https://youtu.be/iRunifGSHFc?list=PL3MmuxUbc_hIUISrluw_A7wDSmfOhErJK <br>\n",
    "**data taken from**: https://www.nyc.gov/site/tlc/about/tlc-trip-record-data.page <br>\n",
    "**data used**: green taxi records for year 2021"
   ]
  },
  {
   "cell_type": "code",
   "execution_count": 1,
   "id": "0e59c13c",
   "metadata": {},
   "outputs": [
    {
     "name": "stdout",
     "output_type": "stream",
     "text": [
      "Requirement already satisfied: polars in /home/codespace/anaconda3/lib/python3.9/site-packages (1.31.0)\r\n"
     ]
    }
   ],
   "source": [
    "!pip install polars"
   ]
  },
  {
   "cell_type": "code",
   "execution_count": 2,
   "id": "e4c37ea8",
   "metadata": {},
   "outputs": [],
   "source": [
    "import polars as pl\n",
    "import seaborn as sns\n",
    "import matplotlib.pyplot as plt\n",
    "from sklearn.feature_extraction import DictVectorizer\n",
    "from sklearn.linear_model import LinearRegression, Lasso, Ridge\n",
    "from sklearn.metrics import mean_squared_error\n",
    "from uuid import uuid4\n",
    "import pickle\n",
    "from typing import Any"
   ]
  },
  {
   "cell_type": "code",
   "execution_count": 3,
   "id": "35daae5a",
   "metadata": {},
   "outputs": [],
   "source": [
    "\n",
    "def visualize_results(y_pred, y_train):\n",
    "    # Plot both on the same figure\n",
    "    sns.histplot(y_pred, label=\"Prediction\", kde=True, color=\"blue\", stat=\"density\")\n",
    "    sns.histplot(y_train, label=\"Actual\", kde=True, color=\"orange\", stat=\"density\")\n",
    "\n",
    "    plt.legend()\n",
    "    plt.title(\"Prediction vs Actual Distribution\")\n",
    "    plt.xlabel(\"Value\")\n",
    "    plt.ylabel(\"Density\")\n",
    "    plt.show()"
   ]
  },
  {
   "cell_type": "code",
   "execution_count": 4,
   "id": "6899aad4",
   "metadata": {},
   "outputs": [],
   "source": [
    "def read_dataframe(filename: str):\n",
    "    df = pl.read_parquet(filename)\n",
    "\n",
    "    # Add a new column named duration which is measured in minutes\n",
    "    df = df.with_columns(\n",
    "        (\n",
    "            (pl.col(\"lpep_dropoff_datetime\") - pl.col(\"lpep_pickup_datetime\"))\n",
    "            .dt.total_seconds() / 60\n",
    "        ).alias(\"duration\")\n",
    "    )\n",
    "\n",
    "    # filter rides that are between 1 and 60 minutes\n",
    "    df = df.filter(\n",
    "        (pl.col(\"duration\") >= 1) & (pl.col(\"duration\") <= 60)\n",
    "    )\n",
    "    \n",
    "    categorical = [\"PULocationID\", \"DOLocationID\"]\n",
    "\n",
    "    df[categorical] = df[categorical].cast(pl.String)\n",
    "    \n",
    "    return df"
   ]
  },
  {
   "cell_type": "code",
   "execution_count": 15,
   "id": "c87fb81f",
   "metadata": {},
   "outputs": [],
   "source": [
    "def export_model(dict_vec: DictVectorizer, model: Any, model_name: str):\n",
    "    with open(f\"../models/{model_name}_{str(uuid4())[:10]}.bin\", 'wb') as mf_out:\n",
    "        pickle.dump((dict_vec, model), mf_out) \n",
    "    "
   ]
  },
  {
   "cell_type": "markdown",
   "id": "2d9fe6a9",
   "metadata": {},
   "source": [
    "### Load data"
   ]
  },
  {
   "cell_type": "code",
   "execution_count": 6,
   "id": "207e2aff",
   "metadata": {},
   "outputs": [],
   "source": [
    "df_train = read_dataframe('../data/green_tripdata_2021-01.parquet')\n",
    "df_val = read_dataframe('../data/green_tripdata_2021-02.parquet')"
   ]
  },
  {
   "cell_type": "markdown",
   "id": "2a98b60b",
   "metadata": {},
   "source": [
    "### Training"
   ]
  },
  {
   "cell_type": "code",
   "execution_count": 7,
   "id": "a931054e",
   "metadata": {},
   "outputs": [],
   "source": [
    "df_train = df_train.with_columns((pl.col('PULocationID') + \"_\" + pl.col('DOLocationID')).alias('PU_DO'))\n",
    "df_val = df_train.with_columns((pl.col('PULocationID') + \"_\" + pl.col('DOLocationID')).alias('PU_DO'))"
   ]
  },
  {
   "cell_type": "code",
   "execution_count": 8,
   "id": "a29f35bf",
   "metadata": {},
   "outputs": [],
   "source": [
    "categorical = [\"PU_DO\"] # \"DOLocationID\"]\n",
    "numerical = [\"trip_distance\"]\n",
    "\n",
    "dv = DictVectorizer()\n",
    "\n",
    "train_dicts = df_train[categorical + numerical].to_dicts()\n",
    "X_train = dv.fit_transform(train_dicts)\n",
    "\n",
    "val_dicts = df_val[categorical + numerical].to_dicts()\n",
    "X_val = dv.transform(val_dicts)\n"
   ]
  },
  {
   "cell_type": "code",
   "execution_count": 9,
   "id": "1b42d958",
   "metadata": {},
   "outputs": [],
   "source": [
    "target = 'duration'\n",
    "y_train = df_train[target].to_numpy()\n",
    "y_val = df_val[target].to_numpy()"
   ]
  },
  {
   "cell_type": "markdown",
   "id": "6abe3ffd",
   "metadata": {},
   "source": [
    "### Linear Regression Model"
   ]
  },
  {
   "cell_type": "code",
   "execution_count": 10,
   "id": "99cc797c",
   "metadata": {},
   "outputs": [
    {
     "data": {
      "text/plain": [
       "4.640803159048316"
      ]
     },
     "execution_count": 10,
     "metadata": {},
     "output_type": "execute_result"
    }
   ],
   "source": [
    "\n",
    "lr_model = LinearRegression()\n",
    "lr_model.fit(X_train, y_train)\n",
    "\n",
    "\n",
    "y_pred = lr_model.predict(X_val)\n",
    "\n",
    "mean_squared_error(y_val, y_pred, squared=False)  # outputs how many minutes off we are from the prediction"
   ]
  },
  {
   "cell_type": "code",
   "execution_count": 11,
   "id": "633c7ca4",
   "metadata": {},
   "outputs": [
    {
     "data": {
      "image/png": "[encoded data removed]",
      "text/plain": [
       "<Figure size 432x288 with 1 Axes>"
      ]
     },
     "metadata": {
      "needs_background": "light"
     },
     "output_type": "display_data"
    }
   ],
   "source": [
    "visualize_results(\n",
    "    y_pred, y_train\n",
    ")"
   ]
  },
  {
   "cell_type": "code",
   "execution_count": 16,
   "id": "d533b481",
   "metadata": {},
   "outputs": [],
   "source": [
    "export_model(dv, lr_model, \"linear_regression_model\")"
   ]
  },
  {
   "cell_type": "markdown",
   "id": "2a3fb4b5",
   "metadata": {},
   "source": [
    "### Lasso Model"
   ]
  },
  {
   "cell_type": "code",
   "execution_count": null,
   "id": "c8ad2348",
   "metadata": {},
   "outputs": [],
   "source": [
    "lasso_model = Lasso(alpha=0.001)\n",
    "lasso_model.fit(X_train, y_train)\n",
    "\n",
    "lasso_y_pred = lasso_model.predict(X_val)\n",
    "\n",
    "mean_squared_error(y_val, lasso_y_pred, squared=False)  # outputs how many minutes off we are from the prediction"
   ]
  },
  {
   "cell_type": "code",
   "execution_count": null,
   "id": "42d0fb98",
   "metadata": {},
   "outputs": [],
   "source": [
    "visualize_results(\n",
    "    lasso_y_pred, y_train\n",
    ")"
   ]
  }
 ],
 "metadata": {
  "kernelspec": {
   "display_name": "Python 3 (ipykernel)",
   "language": "python",
   "name": "python3"
  },
  "language_info": {
   "codemirror_mode": {
    "name": "ipython",
    "version": 3
   },
   "file_extension": ".py",
   "mimetype": "text/x-python",
   "name": "python",
   "nbconvert_exporter": "python",
   "pygments_lexer": "ipython3",
   "version": "3.9.12"
  }
 },
 "nbformat": 4,
 "nbformat_minor": 5
}
